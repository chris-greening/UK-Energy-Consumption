{
 "cells": [
  {
   "cell_type": "code",
   "execution_count": 1,
   "id": "infinite-school",
   "metadata": {},
   "outputs": [],
   "source": [
    "import pandas as pd\n",
    "import plotly.express as px \n",
    "\n",
    "from data_processing import preprocess_dataframe, melt_dataframe"
   ]
  },
  {
   "cell_type": "code",
   "execution_count": 2,
   "id": "graduate-princeton",
   "metadata": {},
   "outputs": [],
   "source": [
    "df = pd.read_csv(\"Subnational_total_final_energy_consumption_statistics.csv\")"
   ]
  },
  {
   "cell_type": "code",
   "execution_count": 3,
   "id": "formed-childhood",
   "metadata": {},
   "outputs": [
    {
     "data": {
      "text/html": [
       "<div>\n",
       "<style scoped>\n",
       "    .dataframe tbody tr th:only-of-type {\n",
       "        vertical-align: middle;\n",
       "    }\n",
       "\n",
       "    .dataframe tbody tr th {\n",
       "        vertical-align: top;\n",
       "    }\n",
       "\n",
       "    .dataframe thead th {\n",
       "        text-align: right;\n",
       "    }\n",
       "</style>\n",
       "<table border=\"1\" class=\"dataframe\">\n",
       "  <thead>\n",
       "    <tr style=\"text-align: right;\">\n",
       "      <th></th>\n",
       "      <th>Name</th>\n",
       "      <th>Year</th>\n",
       "      <th>Energy type</th>\n",
       "      <th>GWh</th>\n",
       "    </tr>\n",
       "  </thead>\n",
       "  <tbody>\n",
       "    <tr>\n",
       "      <th>0</th>\n",
       "      <td>South East</td>\n",
       "      <td>2005</td>\n",
       "      <td>Coal</td>\n",
       "      <td>2232.512114</td>\n",
       "    </tr>\n",
       "    <tr>\n",
       "      <th>1</th>\n",
       "      <td>South East</td>\n",
       "      <td>2006</td>\n",
       "      <td>Coal</td>\n",
       "      <td>2476.868544</td>\n",
       "    </tr>\n",
       "    <tr>\n",
       "      <th>2</th>\n",
       "      <td>South East</td>\n",
       "      <td>2007</td>\n",
       "      <td>Coal</td>\n",
       "      <td>2744.101547</td>\n",
       "    </tr>\n",
       "    <tr>\n",
       "      <th>3</th>\n",
       "      <td>South East</td>\n",
       "      <td>2008</td>\n",
       "      <td>Coal</td>\n",
       "      <td>1869.440257</td>\n",
       "    </tr>\n",
       "    <tr>\n",
       "      <th>4</th>\n",
       "      <td>South East</td>\n",
       "      <td>2009</td>\n",
       "      <td>Coal</td>\n",
       "      <td>1896.387485</td>\n",
       "    </tr>\n",
       "    <tr>\n",
       "      <th>...</th>\n",
       "      <td>...</td>\n",
       "      <td>...</td>\n",
       "      <td>...</td>\n",
       "      <td>...</td>\n",
       "    </tr>\n",
       "    <tr>\n",
       "      <th>79</th>\n",
       "      <td>South East</td>\n",
       "      <td>2014</td>\n",
       "      <td>Bioenergy</td>\n",
       "      <td>5785.087928</td>\n",
       "    </tr>\n",
       "    <tr>\n",
       "      <th>80</th>\n",
       "      <td>South East</td>\n",
       "      <td>2015</td>\n",
       "      <td>Bioenergy</td>\n",
       "      <td>5849.661795</td>\n",
       "    </tr>\n",
       "    <tr>\n",
       "      <th>81</th>\n",
       "      <td>South East</td>\n",
       "      <td>2016</td>\n",
       "      <td>Bioenergy</td>\n",
       "      <td>6261.919007</td>\n",
       "    </tr>\n",
       "    <tr>\n",
       "      <th>82</th>\n",
       "      <td>South East</td>\n",
       "      <td>2017</td>\n",
       "      <td>Bioenergy</td>\n",
       "      <td>6169.929269</td>\n",
       "    </tr>\n",
       "    <tr>\n",
       "      <th>83</th>\n",
       "      <td>South East</td>\n",
       "      <td>2018</td>\n",
       "      <td>Bioenergy</td>\n",
       "      <td>6406.355547</td>\n",
       "    </tr>\n",
       "  </tbody>\n",
       "</table>\n",
       "<p>84 rows × 4 columns</p>\n",
       "</div>"
      ],
      "text/plain": [
       "          Name  Year Energy type          GWh\n",
       "0   South East  2005        Coal  2232.512114\n",
       "1   South East  2006        Coal  2476.868544\n",
       "2   South East  2007        Coal  2744.101547\n",
       "3   South East  2008        Coal  1869.440257\n",
       "4   South East  2009        Coal  1896.387485\n",
       "..         ...   ...         ...          ...\n",
       "79  South East  2014   Bioenergy  5785.087928\n",
       "80  South East  2015   Bioenergy  5849.661795\n",
       "81  South East  2016   Bioenergy  6261.919007\n",
       "82  South East  2017   Bioenergy  6169.929269\n",
       "83  South East  2018   Bioenergy  6406.355547\n",
       "\n",
       "[84 rows x 4 columns]"
      ]
     },
     "execution_count": 3,
     "metadata": {},
     "output_type": "execute_result"
    }
   ],
   "source": [
    "dff = preprocess_dataframe(df)\n",
    "region_df = dff[dff['Name'] == \"South East\"]\n",
    "test = melt_dataframe(region_df)\n",
    "test"
   ]
  },
  {
   "cell_type": "code",
   "execution_count": 5,
   "id": "casual-mention",
   "metadata": {},
   "outputs": [
    {
     "data": {
      "application/vnd.plotly.v1+json": {
       "config": {
        "plotlyServerURL": "https://plot.ly"
       },
       "data": [
        {
         "hovertemplate": "Energy type=Coal<br>Year=%{x}<br>GWh=%{y}<extra></extra>",
         "legendgroup": "Coal",
         "line": {
          "color": "#636efa",
          "dash": "solid"
         },
         "mode": "lines",
         "name": "Coal",
         "orientation": "v",
         "showlegend": true,
         "type": "scatter",
         "x": [
          2005,
          2006,
          2007,
          2008,
          2009,
          2010,
          2011,
          2012,
          2013,
          2014,
          2015,
          2016,
          2017,
          2018
         ],
         "xaxis": "x",
         "y": [
          2232.5121142,
          2476.8685441,
          2744.1015465,
          1869.4402574,
          1896.3874846,
          2379.0878702,
          2144.8974181,
          2009.2262545,
          2285.5271204,
          2125.9611549,
          1729.238727,
          1678.2199646,
          1469.3812079,
          1269.4558374
         ],
         "yaxis": "y"
        },
        {
         "hovertemplate": "Energy type=Manufactured<br>Year=%{x}<br>GWh=%{y}<extra></extra>",
         "legendgroup": "Manufactured",
         "line": {
          "color": "#EF553B",
          "dash": "solid"
         },
         "mode": "lines",
         "name": "Manufactured",
         "orientation": "v",
         "showlegend": true,
         "type": "scatter",
         "x": [
          2005,
          2006,
          2007,
          2008,
          2009,
          2010,
          2011,
          2012,
          2013,
          2014,
          2015,
          2016,
          2017,
          2018
         ],
         "xaxis": "x",
         "y": [
          4134.1974938,
          3887.5228382,
          3735.4709863,
          3707.6226519,
          2980.9747549,
          3089.3933742,
          4285.1505534,
          3788.7296949,
          3308.1293391,
          3259.5641981,
          3151.6049746,
          3022.9618747,
          3088.6502464,
          2641.6130419
         ],
         "yaxis": "y"
        },
        {
         "hovertemplate": "Energy type=Petroleum<br>Year=%{x}<br>GWh=%{y}<extra></extra>",
         "legendgroup": "Petroleum",
         "line": {
          "color": "#00cc96",
          "dash": "solid"
         },
         "mode": "lines",
         "name": "Petroleum",
         "orientation": "v",
         "showlegend": true,
         "type": "scatter",
         "x": [
          2005,
          2006,
          2007,
          2008,
          2009,
          2010,
          2011,
          2012,
          2013,
          2014,
          2015,
          2016,
          2017,
          2018
         ],
         "xaxis": "x",
         "y": [
          101077.52549,
          99648.050398,
          99544.345283,
          94637.307007,
          94376.177348,
          94163.063366,
          89591.341058,
          88720.040453,
          88387.966529,
          88981.50066,
          90887.517579,
          91202.55194,
          85976.132962,
          89802.038203
         ],
         "yaxis": "y"
        },
        {
         "hovertemplate": "Energy type=Gas<br>Year=%{x}<br>GWh=%{y}<extra></extra>",
         "legendgroup": "Gas",
         "line": {
          "color": "#ab63fa",
          "dash": "solid"
         },
         "mode": "lines",
         "name": "Gas",
         "orientation": "v",
         "showlegend": true,
         "type": "scatter",
         "x": [
          2005,
          2006,
          2007,
          2008,
          2009,
          2010,
          2011,
          2012,
          2013,
          2014,
          2015,
          2016,
          2017,
          2018
         ],
         "xaxis": "x",
         "y": [
          85975.69377,
          78790.23783,
          77572.97225,
          74525.92388,
          67478.902179,
          69415.131605,
          65410.152667,
          64044.983028,
          62709.403612,
          63136.23796,
          62147.29378,
          61734.49196,
          63285.94612,
          63944.28109
         ],
         "yaxis": "y"
        },
        {
         "hovertemplate": "Energy type=Electricity<br>Year=%{x}<br>GWh=%{y}<extra></extra>",
         "legendgroup": "Electricity",
         "line": {
          "color": "#FFA15A",
          "dash": "solid"
         },
         "mode": "lines",
         "name": "Electricity",
         "orientation": "v",
         "showlegend": true,
         "type": "scatter",
         "x": [
          2005,
          2006,
          2007,
          2008,
          2009,
          2010,
          2011,
          2012,
          2013,
          2014,
          2015,
          2016,
          2017,
          2018
         ],
         "xaxis": "x",
         "y": [
          41757.60804,
          41673.37195,
          40786.81705,
          40456.118,
          39747.664548,
          39996.970061,
          39021.099659,
          38988.599667,
          38802.459717,
          38943.36,
          38484.42099,
          37483.99677,
          37718.41079,
          37466.25873
         ],
         "yaxis": "y"
        },
        {
         "hovertemplate": "Energy type=Bioenergy<br>Year=%{x}<br>GWh=%{y}<extra></extra>",
         "legendgroup": "Bioenergy",
         "line": {
          "color": "#19d3f3",
          "dash": "solid"
         },
         "mode": "lines",
         "name": "Bioenergy",
         "orientation": "v",
         "showlegend": true,
         "type": "scatter",
         "x": [
          2005,
          2006,
          2007,
          2008,
          2009,
          2010,
          2011,
          2012,
          2013,
          2014,
          2015,
          2016,
          2017,
          2018
         ],
         "xaxis": "x",
         "y": [
          4212.8058139,
          4122.1622545,
          4033.8167889,
          4350.6308656,
          5036.4873267,
          5760.7996376,
          5240.4846105,
          6014.8171653,
          6250.2015222,
          5785.0879284,
          5849.661795,
          6261.9190065,
          6169.9292688,
          6406.3555469
         ],
         "yaxis": "y"
        }
       ],
       "layout": {
        "legend": {
         "title": {
          "text": "Energy type"
         },
         "tracegroupgap": 0
        },
        "margin": {
         "t": 60
        },
        "template": {
         "data": {
          "bar": [
           {
            "error_x": {
             "color": "#2a3f5f"
            },
            "error_y": {
             "color": "#2a3f5f"
            },
            "marker": {
             "line": {
              "color": "#E5ECF6",
              "width": 0.5
             }
            },
            "type": "bar"
           }
          ],
          "barpolar": [
           {
            "marker": {
             "line": {
              "color": "#E5ECF6",
              "width": 0.5
             }
            },
            "type": "barpolar"
           }
          ],
          "carpet": [
           {
            "aaxis": {
             "endlinecolor": "#2a3f5f",
             "gridcolor": "white",
             "linecolor": "white",
             "minorgridcolor": "white",
             "startlinecolor": "#2a3f5f"
            },
            "baxis": {
             "endlinecolor": "#2a3f5f",
             "gridcolor": "white",
             "linecolor": "white",
             "minorgridcolor": "white",
             "startlinecolor": "#2a3f5f"
            },
            "type": "carpet"
           }
          ],
          "choropleth": [
           {
            "colorbar": {
             "outlinewidth": 0,
             "ticks": ""
            },
            "type": "choropleth"
           }
          ],
          "contour": [
           {
            "colorbar": {
             "outlinewidth": 0,
             "ticks": ""
            },
            "colorscale": [
             [
              0,
              "#0d0887"
             ],
             [
              0.1111111111111111,
              "#46039f"
             ],
             [
              0.2222222222222222,
              "#7201a8"
             ],
             [
              0.3333333333333333,
              "#9c179e"
             ],
             [
              0.4444444444444444,
              "#bd3786"
             ],
             [
              0.5555555555555556,
              "#d8576b"
             ],
             [
              0.6666666666666666,
              "#ed7953"
             ],
             [
              0.7777777777777778,
              "#fb9f3a"
             ],
             [
              0.8888888888888888,
              "#fdca26"
             ],
             [
              1,
              "#f0f921"
             ]
            ],
            "type": "contour"
           }
          ],
          "contourcarpet": [
           {
            "colorbar": {
             "outlinewidth": 0,
             "ticks": ""
            },
            "type": "contourcarpet"
           }
          ],
          "heatmap": [
           {
            "colorbar": {
             "outlinewidth": 0,
             "ticks": ""
            },
            "colorscale": [
             [
              0,
              "#0d0887"
             ],
             [
              0.1111111111111111,
              "#46039f"
             ],
             [
              0.2222222222222222,
              "#7201a8"
             ],
             [
              0.3333333333333333,
              "#9c179e"
             ],
             [
              0.4444444444444444,
              "#bd3786"
             ],
             [
              0.5555555555555556,
              "#d8576b"
             ],
             [
              0.6666666666666666,
              "#ed7953"
             ],
             [
              0.7777777777777778,
              "#fb9f3a"
             ],
             [
              0.8888888888888888,
              "#fdca26"
             ],
             [
              1,
              "#f0f921"
             ]
            ],
            "type": "heatmap"
           }
          ],
          "heatmapgl": [
           {
            "colorbar": {
             "outlinewidth": 0,
             "ticks": ""
            },
            "colorscale": [
             [
              0,
              "#0d0887"
             ],
             [
              0.1111111111111111,
              "#46039f"
             ],
             [
              0.2222222222222222,
              "#7201a8"
             ],
             [
              0.3333333333333333,
              "#9c179e"
             ],
             [
              0.4444444444444444,
              "#bd3786"
             ],
             [
              0.5555555555555556,
              "#d8576b"
             ],
             [
              0.6666666666666666,
              "#ed7953"
             ],
             [
              0.7777777777777778,
              "#fb9f3a"
             ],
             [
              0.8888888888888888,
              "#fdca26"
             ],
             [
              1,
              "#f0f921"
             ]
            ],
            "type": "heatmapgl"
           }
          ],
          "histogram": [
           {
            "marker": {
             "colorbar": {
              "outlinewidth": 0,
              "ticks": ""
             }
            },
            "type": "histogram"
           }
          ],
          "histogram2d": [
           {
            "colorbar": {
             "outlinewidth": 0,
             "ticks": ""
            },
            "colorscale": [
             [
              0,
              "#0d0887"
             ],
             [
              0.1111111111111111,
              "#46039f"
             ],
             [
              0.2222222222222222,
              "#7201a8"
             ],
             [
              0.3333333333333333,
              "#9c179e"
             ],
             [
              0.4444444444444444,
              "#bd3786"
             ],
             [
              0.5555555555555556,
              "#d8576b"
             ],
             [
              0.6666666666666666,
              "#ed7953"
             ],
             [
              0.7777777777777778,
              "#fb9f3a"
             ],
             [
              0.8888888888888888,
              "#fdca26"
             ],
             [
              1,
              "#f0f921"
             ]
            ],
            "type": "histogram2d"
           }
          ],
          "histogram2dcontour": [
           {
            "colorbar": {
             "outlinewidth": 0,
             "ticks": ""
            },
            "colorscale": [
             [
              0,
              "#0d0887"
             ],
             [
              0.1111111111111111,
              "#46039f"
             ],
             [
              0.2222222222222222,
              "#7201a8"
             ],
             [
              0.3333333333333333,
              "#9c179e"
             ],
             [
              0.4444444444444444,
              "#bd3786"
             ],
             [
              0.5555555555555556,
              "#d8576b"
             ],
             [
              0.6666666666666666,
              "#ed7953"
             ],
             [
              0.7777777777777778,
              "#fb9f3a"
             ],
             [
              0.8888888888888888,
              "#fdca26"
             ],
             [
              1,
              "#f0f921"
             ]
            ],
            "type": "histogram2dcontour"
           }
          ],
          "mesh3d": [
           {
            "colorbar": {
             "outlinewidth": 0,
             "ticks": ""
            },
            "type": "mesh3d"
           }
          ],
          "parcoords": [
           {
            "line": {
             "colorbar": {
              "outlinewidth": 0,
              "ticks": ""
             }
            },
            "type": "parcoords"
           }
          ],
          "pie": [
           {
            "automargin": true,
            "type": "pie"
           }
          ],
          "scatter": [
           {
            "marker": {
             "colorbar": {
              "outlinewidth": 0,
              "ticks": ""
             }
            },
            "type": "scatter"
           }
          ],
          "scatter3d": [
           {
            "line": {
             "colorbar": {
              "outlinewidth": 0,
              "ticks": ""
             }
            },
            "marker": {
             "colorbar": {
              "outlinewidth": 0,
              "ticks": ""
             }
            },
            "type": "scatter3d"
           }
          ],
          "scattercarpet": [
           {
            "marker": {
             "colorbar": {
              "outlinewidth": 0,
              "ticks": ""
             }
            },
            "type": "scattercarpet"
           }
          ],
          "scattergeo": [
           {
            "marker": {
             "colorbar": {
              "outlinewidth": 0,
              "ticks": ""
             }
            },
            "type": "scattergeo"
           }
          ],
          "scattergl": [
           {
            "marker": {
             "colorbar": {
              "outlinewidth": 0,
              "ticks": ""
             }
            },
            "type": "scattergl"
           }
          ],
          "scattermapbox": [
           {
            "marker": {
             "colorbar": {
              "outlinewidth": 0,
              "ticks": ""
             }
            },
            "type": "scattermapbox"
           }
          ],
          "scatterpolar": [
           {
            "marker": {
             "colorbar": {
              "outlinewidth": 0,
              "ticks": ""
             }
            },
            "type": "scatterpolar"
           }
          ],
          "scatterpolargl": [
           {
            "marker": {
             "colorbar": {
              "outlinewidth": 0,
              "ticks": ""
             }
            },
            "type": "scatterpolargl"
           }
          ],
          "scatterternary": [
           {
            "marker": {
             "colorbar": {
              "outlinewidth": 0,
              "ticks": ""
             }
            },
            "type": "scatterternary"
           }
          ],
          "surface": [
           {
            "colorbar": {
             "outlinewidth": 0,
             "ticks": ""
            },
            "colorscale": [
             [
              0,
              "#0d0887"
             ],
             [
              0.1111111111111111,
              "#46039f"
             ],
             [
              0.2222222222222222,
              "#7201a8"
             ],
             [
              0.3333333333333333,
              "#9c179e"
             ],
             [
              0.4444444444444444,
              "#bd3786"
             ],
             [
              0.5555555555555556,
              "#d8576b"
             ],
             [
              0.6666666666666666,
              "#ed7953"
             ],
             [
              0.7777777777777778,
              "#fb9f3a"
             ],
             [
              0.8888888888888888,
              "#fdca26"
             ],
             [
              1,
              "#f0f921"
             ]
            ],
            "type": "surface"
           }
          ],
          "table": [
           {
            "cells": {
             "fill": {
              "color": "#EBF0F8"
             },
             "line": {
              "color": "white"
             }
            },
            "header": {
             "fill": {
              "color": "#C8D4E3"
             },
             "line": {
              "color": "white"
             }
            },
            "type": "table"
           }
          ]
         },
         "layout": {
          "annotationdefaults": {
           "arrowcolor": "#2a3f5f",
           "arrowhead": 0,
           "arrowwidth": 1
          },
          "autotypenumbers": "strict",
          "coloraxis": {
           "colorbar": {
            "outlinewidth": 0,
            "ticks": ""
           }
          },
          "colorscale": {
           "diverging": [
            [
             0,
             "#8e0152"
            ],
            [
             0.1,
             "#c51b7d"
            ],
            [
             0.2,
             "#de77ae"
            ],
            [
             0.3,
             "#f1b6da"
            ],
            [
             0.4,
             "#fde0ef"
            ],
            [
             0.5,
             "#f7f7f7"
            ],
            [
             0.6,
             "#e6f5d0"
            ],
            [
             0.7,
             "#b8e186"
            ],
            [
             0.8,
             "#7fbc41"
            ],
            [
             0.9,
             "#4d9221"
            ],
            [
             1,
             "#276419"
            ]
           ],
           "sequential": [
            [
             0,
             "#0d0887"
            ],
            [
             0.1111111111111111,
             "#46039f"
            ],
            [
             0.2222222222222222,
             "#7201a8"
            ],
            [
             0.3333333333333333,
             "#9c179e"
            ],
            [
             0.4444444444444444,
             "#bd3786"
            ],
            [
             0.5555555555555556,
             "#d8576b"
            ],
            [
             0.6666666666666666,
             "#ed7953"
            ],
            [
             0.7777777777777778,
             "#fb9f3a"
            ],
            [
             0.8888888888888888,
             "#fdca26"
            ],
            [
             1,
             "#f0f921"
            ]
           ],
           "sequentialminus": [
            [
             0,
             "#0d0887"
            ],
            [
             0.1111111111111111,
             "#46039f"
            ],
            [
             0.2222222222222222,
             "#7201a8"
            ],
            [
             0.3333333333333333,
             "#9c179e"
            ],
            [
             0.4444444444444444,
             "#bd3786"
            ],
            [
             0.5555555555555556,
             "#d8576b"
            ],
            [
             0.6666666666666666,
             "#ed7953"
            ],
            [
             0.7777777777777778,
             "#fb9f3a"
            ],
            [
             0.8888888888888888,
             "#fdca26"
            ],
            [
             1,
             "#f0f921"
            ]
           ]
          },
          "colorway": [
           "#636efa",
           "#EF553B",
           "#00cc96",
           "#ab63fa",
           "#FFA15A",
           "#19d3f3",
           "#FF6692",
           "#B6E880",
           "#FF97FF",
           "#FECB52"
          ],
          "font": {
           "color": "#2a3f5f"
          },
          "geo": {
           "bgcolor": "white",
           "lakecolor": "white",
           "landcolor": "#E5ECF6",
           "showlakes": true,
           "showland": true,
           "subunitcolor": "white"
          },
          "hoverlabel": {
           "align": "left"
          },
          "hovermode": "closest",
          "mapbox": {
           "style": "light"
          },
          "paper_bgcolor": "white",
          "plot_bgcolor": "#E5ECF6",
          "polar": {
           "angularaxis": {
            "gridcolor": "white",
            "linecolor": "white",
            "ticks": ""
           },
           "bgcolor": "#E5ECF6",
           "radialaxis": {
            "gridcolor": "white",
            "linecolor": "white",
            "ticks": ""
           }
          },
          "scene": {
           "xaxis": {
            "backgroundcolor": "#E5ECF6",
            "gridcolor": "white",
            "gridwidth": 2,
            "linecolor": "white",
            "showbackground": true,
            "ticks": "",
            "zerolinecolor": "white"
           },
           "yaxis": {
            "backgroundcolor": "#E5ECF6",
            "gridcolor": "white",
            "gridwidth": 2,
            "linecolor": "white",
            "showbackground": true,
            "ticks": "",
            "zerolinecolor": "white"
           },
           "zaxis": {
            "backgroundcolor": "#E5ECF6",
            "gridcolor": "white",
            "gridwidth": 2,
            "linecolor": "white",
            "showbackground": true,
            "ticks": "",
            "zerolinecolor": "white"
           }
          },
          "shapedefaults": {
           "line": {
            "color": "#2a3f5f"
           }
          },
          "ternary": {
           "aaxis": {
            "gridcolor": "white",
            "linecolor": "white",
            "ticks": ""
           },
           "baxis": {
            "gridcolor": "white",
            "linecolor": "white",
            "ticks": ""
           },
           "bgcolor": "#E5ECF6",
           "caxis": {
            "gridcolor": "white",
            "linecolor": "white",
            "ticks": ""
           }
          },
          "title": {
           "x": 0.05
          },
          "xaxis": {
           "automargin": true,
           "gridcolor": "white",
           "linecolor": "white",
           "ticks": "",
           "title": {
            "standoff": 15
           },
           "zerolinecolor": "white",
           "zerolinewidth": 2
          },
          "yaxis": {
           "automargin": true,
           "gridcolor": "white",
           "linecolor": "white",
           "ticks": "",
           "title": {
            "standoff": 15
           },
           "zerolinecolor": "white",
           "zerolinewidth": 2
          }
         }
        },
        "xaxis": {
         "anchor": "y",
         "domain": [
          0,
          1
         ],
         "title": {
          "text": "Year"
         }
        },
        "yaxis": {
         "anchor": "x",
         "domain": [
          0,
          1
         ],
         "title": {
          "text": "GWh"
         }
        }
       }
      },
      "text/html": [
       "<div>                            <div id=\"f66409ec-5537-45bf-b1b3-70a7925b0d64\" class=\"plotly-graph-div\" style=\"height:525px; width:100%;\"></div>            <script type=\"text/javascript\">                require([\"plotly\"], function(Plotly) {                    window.PLOTLYENV=window.PLOTLYENV || {};                                    if (document.getElementById(\"f66409ec-5537-45bf-b1b3-70a7925b0d64\")) {                    Plotly.newPlot(                        \"f66409ec-5537-45bf-b1b3-70a7925b0d64\",                        [{\"hovertemplate\": \"Energy type=Coal<br>Year=%{x}<br>GWh=%{y}<extra></extra>\", \"legendgroup\": \"Coal\", \"line\": {\"color\": \"#636efa\", \"dash\": \"solid\"}, \"mode\": \"lines\", \"name\": \"Coal\", \"orientation\": \"v\", \"showlegend\": true, \"type\": \"scatter\", \"x\": [2005, 2006, 2007, 2008, 2009, 2010, 2011, 2012, 2013, 2014, 2015, 2016, 2017, 2018], \"xaxis\": \"x\", \"y\": [2232.5121142, 2476.8685441, 2744.1015465, 1869.4402574, 1896.3874846, 2379.0878702, 2144.8974181, 2009.2262545, 2285.5271204, 2125.9611549, 1729.238727, 1678.2199646, 1469.3812079, 1269.4558374], \"yaxis\": \"y\"}, {\"hovertemplate\": \"Energy type=Manufactured<br>Year=%{x}<br>GWh=%{y}<extra></extra>\", \"legendgroup\": \"Manufactured\", \"line\": {\"color\": \"#EF553B\", \"dash\": \"solid\"}, \"mode\": \"lines\", \"name\": \"Manufactured\", \"orientation\": \"v\", \"showlegend\": true, \"type\": \"scatter\", \"x\": [2005, 2006, 2007, 2008, 2009, 2010, 2011, 2012, 2013, 2014, 2015, 2016, 2017, 2018], \"xaxis\": \"x\", \"y\": [4134.1974938, 3887.5228382, 3735.4709863, 3707.6226519, 2980.9747549, 3089.3933742, 4285.1505534, 3788.7296949, 3308.1293391, 3259.5641981, 3151.6049746, 3022.9618747, 3088.6502464, 2641.6130419], \"yaxis\": \"y\"}, {\"hovertemplate\": \"Energy type=Petroleum<br>Year=%{x}<br>GWh=%{y}<extra></extra>\", \"legendgroup\": \"Petroleum\", \"line\": {\"color\": \"#00cc96\", \"dash\": \"solid\"}, \"mode\": \"lines\", \"name\": \"Petroleum\", \"orientation\": \"v\", \"showlegend\": true, \"type\": \"scatter\", \"x\": [2005, 2006, 2007, 2008, 2009, 2010, 2011, 2012, 2013, 2014, 2015, 2016, 2017, 2018], \"xaxis\": \"x\", \"y\": [101077.52549, 99648.050398, 99544.345283, 94637.307007, 94376.177348, 94163.063366, 89591.341058, 88720.040453, 88387.966529, 88981.50066, 90887.517579, 91202.55194, 85976.132962, 89802.038203], \"yaxis\": \"y\"}, {\"hovertemplate\": \"Energy type=Gas<br>Year=%{x}<br>GWh=%{y}<extra></extra>\", \"legendgroup\": \"Gas\", \"line\": {\"color\": \"#ab63fa\", \"dash\": \"solid\"}, \"mode\": \"lines\", \"name\": \"Gas\", \"orientation\": \"v\", \"showlegend\": true, \"type\": \"scatter\", \"x\": [2005, 2006, 2007, 2008, 2009, 2010, 2011, 2012, 2013, 2014, 2015, 2016, 2017, 2018], \"xaxis\": \"x\", \"y\": [85975.69377, 78790.23783, 77572.97225, 74525.92388, 67478.902179, 69415.131605, 65410.152667, 64044.983028, 62709.403612, 63136.23796, 62147.29378, 61734.49196, 63285.94612, 63944.28109], \"yaxis\": \"y\"}, {\"hovertemplate\": \"Energy type=Electricity<br>Year=%{x}<br>GWh=%{y}<extra></extra>\", \"legendgroup\": \"Electricity\", \"line\": {\"color\": \"#FFA15A\", \"dash\": \"solid\"}, \"mode\": \"lines\", \"name\": \"Electricity\", \"orientation\": \"v\", \"showlegend\": true, \"type\": \"scatter\", \"x\": [2005, 2006, 2007, 2008, 2009, 2010, 2011, 2012, 2013, 2014, 2015, 2016, 2017, 2018], \"xaxis\": \"x\", \"y\": [41757.60804, 41673.37195, 40786.81705, 40456.118, 39747.664548, 39996.970061, 39021.099659, 38988.599667, 38802.459717, 38943.36, 38484.42099, 37483.99677, 37718.41079, 37466.25873], \"yaxis\": \"y\"}, {\"hovertemplate\": \"Energy type=Bioenergy<br>Year=%{x}<br>GWh=%{y}<extra></extra>\", \"legendgroup\": \"Bioenergy\", \"line\": {\"color\": \"#19d3f3\", \"dash\": \"solid\"}, \"mode\": \"lines\", \"name\": \"Bioenergy\", \"orientation\": \"v\", \"showlegend\": true, \"type\": \"scatter\", \"x\": [2005, 2006, 2007, 2008, 2009, 2010, 2011, 2012, 2013, 2014, 2015, 2016, 2017, 2018], \"xaxis\": \"x\", \"y\": [4212.8058139, 4122.1622545, 4033.8167889, 4350.6308656, 5036.4873267, 5760.7996376, 5240.4846105, 6014.8171653, 6250.2015222, 5785.0879284, 5849.661795, 6261.9190065, 6169.9292688, 6406.3555469], \"yaxis\": \"y\"}],                        {\"legend\": {\"title\": {\"text\": \"Energy type\"}, \"tracegroupgap\": 0}, \"margin\": {\"t\": 60}, \"template\": {\"data\": {\"bar\": [{\"error_x\": {\"color\": \"#2a3f5f\"}, \"error_y\": {\"color\": \"#2a3f5f\"}, \"marker\": {\"line\": {\"color\": \"#E5ECF6\", \"width\": 0.5}}, \"type\": \"bar\"}], \"barpolar\": [{\"marker\": {\"line\": {\"color\": \"#E5ECF6\", \"width\": 0.5}}, \"type\": \"barpolar\"}], \"carpet\": [{\"aaxis\": {\"endlinecolor\": \"#2a3f5f\", \"gridcolor\": \"white\", \"linecolor\": \"white\", \"minorgridcolor\": \"white\", \"startlinecolor\": \"#2a3f5f\"}, \"baxis\": {\"endlinecolor\": \"#2a3f5f\", \"gridcolor\": \"white\", \"linecolor\": \"white\", \"minorgridcolor\": \"white\", \"startlinecolor\": \"#2a3f5f\"}, \"type\": \"carpet\"}], \"choropleth\": [{\"colorbar\": {\"outlinewidth\": 0, \"ticks\": \"\"}, \"type\": \"choropleth\"}], \"contour\": [{\"colorbar\": {\"outlinewidth\": 0, \"ticks\": \"\"}, \"colorscale\": [[0.0, \"#0d0887\"], [0.1111111111111111, \"#46039f\"], [0.2222222222222222, \"#7201a8\"], [0.3333333333333333, \"#9c179e\"], [0.4444444444444444, \"#bd3786\"], [0.5555555555555556, \"#d8576b\"], [0.6666666666666666, \"#ed7953\"], [0.7777777777777778, \"#fb9f3a\"], [0.8888888888888888, \"#fdca26\"], [1.0, \"#f0f921\"]], \"type\": \"contour\"}], \"contourcarpet\": [{\"colorbar\": {\"outlinewidth\": 0, \"ticks\": \"\"}, \"type\": \"contourcarpet\"}], \"heatmap\": [{\"colorbar\": {\"outlinewidth\": 0, \"ticks\": \"\"}, \"colorscale\": [[0.0, \"#0d0887\"], [0.1111111111111111, \"#46039f\"], [0.2222222222222222, \"#7201a8\"], [0.3333333333333333, \"#9c179e\"], [0.4444444444444444, \"#bd3786\"], [0.5555555555555556, \"#d8576b\"], [0.6666666666666666, \"#ed7953\"], [0.7777777777777778, \"#fb9f3a\"], [0.8888888888888888, \"#fdca26\"], [1.0, \"#f0f921\"]], \"type\": \"heatmap\"}], \"heatmapgl\": [{\"colorbar\": {\"outlinewidth\": 0, \"ticks\": \"\"}, \"colorscale\": [[0.0, \"#0d0887\"], [0.1111111111111111, \"#46039f\"], [0.2222222222222222, \"#7201a8\"], [0.3333333333333333, \"#9c179e\"], [0.4444444444444444, \"#bd3786\"], [0.5555555555555556, \"#d8576b\"], [0.6666666666666666, \"#ed7953\"], [0.7777777777777778, \"#fb9f3a\"], [0.8888888888888888, \"#fdca26\"], [1.0, \"#f0f921\"]], \"type\": \"heatmapgl\"}], \"histogram\": [{\"marker\": {\"colorbar\": {\"outlinewidth\": 0, \"ticks\": \"\"}}, \"type\": \"histogram\"}], \"histogram2d\": [{\"colorbar\": {\"outlinewidth\": 0, \"ticks\": \"\"}, \"colorscale\": [[0.0, \"#0d0887\"], [0.1111111111111111, \"#46039f\"], [0.2222222222222222, \"#7201a8\"], [0.3333333333333333, \"#9c179e\"], [0.4444444444444444, \"#bd3786\"], [0.5555555555555556, \"#d8576b\"], [0.6666666666666666, \"#ed7953\"], [0.7777777777777778, \"#fb9f3a\"], [0.8888888888888888, \"#fdca26\"], [1.0, \"#f0f921\"]], \"type\": \"histogram2d\"}], \"histogram2dcontour\": [{\"colorbar\": {\"outlinewidth\": 0, \"ticks\": \"\"}, \"colorscale\": [[0.0, \"#0d0887\"], [0.1111111111111111, \"#46039f\"], [0.2222222222222222, \"#7201a8\"], [0.3333333333333333, \"#9c179e\"], [0.4444444444444444, \"#bd3786\"], [0.5555555555555556, \"#d8576b\"], [0.6666666666666666, \"#ed7953\"], [0.7777777777777778, \"#fb9f3a\"], [0.8888888888888888, \"#fdca26\"], [1.0, \"#f0f921\"]], \"type\": \"histogram2dcontour\"}], \"mesh3d\": [{\"colorbar\": {\"outlinewidth\": 0, \"ticks\": \"\"}, \"type\": \"mesh3d\"}], \"parcoords\": [{\"line\": {\"colorbar\": {\"outlinewidth\": 0, \"ticks\": \"\"}}, \"type\": \"parcoords\"}], \"pie\": [{\"automargin\": true, \"type\": \"pie\"}], \"scatter\": [{\"marker\": {\"colorbar\": {\"outlinewidth\": 0, \"ticks\": \"\"}}, \"type\": \"scatter\"}], \"scatter3d\": [{\"line\": {\"colorbar\": {\"outlinewidth\": 0, \"ticks\": \"\"}}, \"marker\": {\"colorbar\": {\"outlinewidth\": 0, \"ticks\": \"\"}}, \"type\": \"scatter3d\"}], \"scattercarpet\": [{\"marker\": {\"colorbar\": {\"outlinewidth\": 0, \"ticks\": \"\"}}, \"type\": \"scattercarpet\"}], \"scattergeo\": [{\"marker\": {\"colorbar\": {\"outlinewidth\": 0, \"ticks\": \"\"}}, \"type\": \"scattergeo\"}], \"scattergl\": [{\"marker\": {\"colorbar\": {\"outlinewidth\": 0, \"ticks\": \"\"}}, \"type\": \"scattergl\"}], \"scattermapbox\": [{\"marker\": {\"colorbar\": {\"outlinewidth\": 0, \"ticks\": \"\"}}, \"type\": \"scattermapbox\"}], \"scatterpolar\": [{\"marker\": {\"colorbar\": {\"outlinewidth\": 0, \"ticks\": \"\"}}, \"type\": \"scatterpolar\"}], \"scatterpolargl\": [{\"marker\": {\"colorbar\": {\"outlinewidth\": 0, \"ticks\": \"\"}}, \"type\": \"scatterpolargl\"}], \"scatterternary\": [{\"marker\": {\"colorbar\": {\"outlinewidth\": 0, \"ticks\": \"\"}}, \"type\": \"scatterternary\"}], \"surface\": [{\"colorbar\": {\"outlinewidth\": 0, \"ticks\": \"\"}, \"colorscale\": [[0.0, \"#0d0887\"], [0.1111111111111111, \"#46039f\"], [0.2222222222222222, \"#7201a8\"], [0.3333333333333333, \"#9c179e\"], [0.4444444444444444, \"#bd3786\"], [0.5555555555555556, \"#d8576b\"], [0.6666666666666666, \"#ed7953\"], [0.7777777777777778, \"#fb9f3a\"], [0.8888888888888888, \"#fdca26\"], [1.0, \"#f0f921\"]], \"type\": \"surface\"}], \"table\": [{\"cells\": {\"fill\": {\"color\": \"#EBF0F8\"}, \"line\": {\"color\": \"white\"}}, \"header\": {\"fill\": {\"color\": \"#C8D4E3\"}, \"line\": {\"color\": \"white\"}}, \"type\": \"table\"}]}, \"layout\": {\"annotationdefaults\": {\"arrowcolor\": \"#2a3f5f\", \"arrowhead\": 0, \"arrowwidth\": 1}, \"autotypenumbers\": \"strict\", \"coloraxis\": {\"colorbar\": {\"outlinewidth\": 0, \"ticks\": \"\"}}, \"colorscale\": {\"diverging\": [[0, \"#8e0152\"], [0.1, \"#c51b7d\"], [0.2, \"#de77ae\"], [0.3, \"#f1b6da\"], [0.4, \"#fde0ef\"], [0.5, \"#f7f7f7\"], [0.6, \"#e6f5d0\"], [0.7, \"#b8e186\"], [0.8, \"#7fbc41\"], [0.9, \"#4d9221\"], [1, \"#276419\"]], \"sequential\": [[0.0, \"#0d0887\"], [0.1111111111111111, \"#46039f\"], [0.2222222222222222, \"#7201a8\"], [0.3333333333333333, \"#9c179e\"], [0.4444444444444444, \"#bd3786\"], [0.5555555555555556, \"#d8576b\"], [0.6666666666666666, \"#ed7953\"], [0.7777777777777778, \"#fb9f3a\"], [0.8888888888888888, \"#fdca26\"], [1.0, \"#f0f921\"]], \"sequentialminus\": [[0.0, \"#0d0887\"], [0.1111111111111111, \"#46039f\"], [0.2222222222222222, \"#7201a8\"], [0.3333333333333333, \"#9c179e\"], [0.4444444444444444, \"#bd3786\"], [0.5555555555555556, \"#d8576b\"], [0.6666666666666666, \"#ed7953\"], [0.7777777777777778, \"#fb9f3a\"], [0.8888888888888888, \"#fdca26\"], [1.0, \"#f0f921\"]]}, \"colorway\": [\"#636efa\", \"#EF553B\", \"#00cc96\", \"#ab63fa\", \"#FFA15A\", \"#19d3f3\", \"#FF6692\", \"#B6E880\", \"#FF97FF\", \"#FECB52\"], \"font\": {\"color\": \"#2a3f5f\"}, \"geo\": {\"bgcolor\": \"white\", \"lakecolor\": \"white\", \"landcolor\": \"#E5ECF6\", \"showlakes\": true, \"showland\": true, \"subunitcolor\": \"white\"}, \"hoverlabel\": {\"align\": \"left\"}, \"hovermode\": \"closest\", \"mapbox\": {\"style\": \"light\"}, \"paper_bgcolor\": \"white\", \"plot_bgcolor\": \"#E5ECF6\", \"polar\": {\"angularaxis\": {\"gridcolor\": \"white\", \"linecolor\": \"white\", \"ticks\": \"\"}, \"bgcolor\": \"#E5ECF6\", \"radialaxis\": {\"gridcolor\": \"white\", \"linecolor\": \"white\", \"ticks\": \"\"}}, \"scene\": {\"xaxis\": {\"backgroundcolor\": \"#E5ECF6\", \"gridcolor\": \"white\", \"gridwidth\": 2, \"linecolor\": \"white\", \"showbackground\": true, \"ticks\": \"\", \"zerolinecolor\": \"white\"}, \"yaxis\": {\"backgroundcolor\": \"#E5ECF6\", \"gridcolor\": \"white\", \"gridwidth\": 2, \"linecolor\": \"white\", \"showbackground\": true, \"ticks\": \"\", \"zerolinecolor\": \"white\"}, \"zaxis\": {\"backgroundcolor\": \"#E5ECF6\", \"gridcolor\": \"white\", \"gridwidth\": 2, \"linecolor\": \"white\", \"showbackground\": true, \"ticks\": \"\", \"zerolinecolor\": \"white\"}}, \"shapedefaults\": {\"line\": {\"color\": \"#2a3f5f\"}}, \"ternary\": {\"aaxis\": {\"gridcolor\": \"white\", \"linecolor\": \"white\", \"ticks\": \"\"}, \"baxis\": {\"gridcolor\": \"white\", \"linecolor\": \"white\", \"ticks\": \"\"}, \"bgcolor\": \"#E5ECF6\", \"caxis\": {\"gridcolor\": \"white\", \"linecolor\": \"white\", \"ticks\": \"\"}}, \"title\": {\"x\": 0.05}, \"xaxis\": {\"automargin\": true, \"gridcolor\": \"white\", \"linecolor\": \"white\", \"ticks\": \"\", \"title\": {\"standoff\": 15}, \"zerolinecolor\": \"white\", \"zerolinewidth\": 2}, \"yaxis\": {\"automargin\": true, \"gridcolor\": \"white\", \"linecolor\": \"white\", \"ticks\": \"\", \"title\": {\"standoff\": 15}, \"zerolinecolor\": \"white\", \"zerolinewidth\": 2}}}, \"xaxis\": {\"anchor\": \"y\", \"domain\": [0.0, 1.0], \"title\": {\"text\": \"Year\"}}, \"yaxis\": {\"anchor\": \"x\", \"domain\": [0.0, 1.0], \"title\": {\"text\": \"GWh\"}}},                        {\"responsive\": true}                    ).then(function(){\n",
       "                            \n",
       "var gd = document.getElementById('f66409ec-5537-45bf-b1b3-70a7925b0d64');\n",
       "var x = new MutationObserver(function (mutations, observer) {{\n",
       "        var display = window.getComputedStyle(gd).display;\n",
       "        if (!display || display === 'none') {{\n",
       "            console.log([gd, 'removed!']);\n",
       "            Plotly.purge(gd);\n",
       "            observer.disconnect();\n",
       "        }}\n",
       "}});\n",
       "\n",
       "// Listen for the removal of the full notebook cells\n",
       "var notebookContainer = gd.closest('#notebook-container');\n",
       "if (notebookContainer) {{\n",
       "    x.observe(notebookContainer, {childList: true});\n",
       "}}\n",
       "\n",
       "// Listen for the clearing of the current output cell\n",
       "var outputEl = gd.closest('.output');\n",
       "if (outputEl) {{\n",
       "    x.observe(outputEl, {childList: true});\n",
       "}}\n",
       "\n",
       "                        })                };                });            </script>        </div>"
      ]
     },
     "metadata": {},
     "output_type": "display_data"
    },
    {
     "data": {
      "text/html": [
       "<div>\n",
       "<style scoped>\n",
       "    .dataframe tbody tr th:only-of-type {\n",
       "        vertical-align: middle;\n",
       "    }\n",
       "\n",
       "    .dataframe tbody tr th {\n",
       "        vertical-align: top;\n",
       "    }\n",
       "\n",
       "    .dataframe thead th {\n",
       "        text-align: right;\n",
       "    }\n",
       "</style>\n",
       "<table border=\"1\" class=\"dataframe\">\n",
       "  <thead>\n",
       "    <tr style=\"text-align: right;\">\n",
       "      <th></th>\n",
       "      <th>Year</th>\n",
       "      <th>Name</th>\n",
       "      <th>Unit</th>\n",
       "      <th>Coal_Industrial</th>\n",
       "      <th>Coal_Commercial</th>\n",
       "      <th>Coal_Domestic</th>\n",
       "      <th>Coal_Rail</th>\n",
       "      <th>Coal_Public</th>\n",
       "      <th>Coal_Agriculture</th>\n",
       "      <th>Coal_Total</th>\n",
       "      <th>...</th>\n",
       "      <th>Electricity_Commercial</th>\n",
       "      <th>Electricity_Domestic</th>\n",
       "      <th>Electricity_Total</th>\n",
       "      <th>Bioenergy_Commercial</th>\n",
       "      <th>Bioenergy_Domestic</th>\n",
       "      <th>Bioenergy_Total</th>\n",
       "      <th>All_Fuels_Total</th>\n",
       "      <th>Sector_Industrial</th>\n",
       "      <th>Sector_Domestic</th>\n",
       "      <th>Sector_Transport</th>\n",
       "    </tr>\n",
       "  </thead>\n",
       "  <tbody>\n",
       "    <tr>\n",
       "      <th>7</th>\n",
       "      <td>2005</td>\n",
       "      <td>South East</td>\n",
       "      <td>GWh</td>\n",
       "      <td>1402.048896</td>\n",
       "      <td>9.315935</td>\n",
       "      <td>647.322660</td>\n",
       "      <td>5.292556</td>\n",
       "      <td>160.350304</td>\n",
       "      <td>8.181764</td>\n",
       "      <td>2232.512114</td>\n",
       "      <td>...</td>\n",
       "      <td>24399.902820</td>\n",
       "      <td>17357.705220</td>\n",
       "      <td>41757.608040</td>\n",
       "      <td>2146.356814</td>\n",
       "      <td>2066.449000</td>\n",
       "      <td>4212.805814</td>\n",
       "      <td>239390.34272</td>\n",
       "      <td>85740.602487</td>\n",
       "      <td>81053.819193</td>\n",
       "      <td>72595.921037</td>\n",
       "    </tr>\n",
       "    <tr>\n",
       "      <th>21</th>\n",
       "      <td>2006</td>\n",
       "      <td>South East</td>\n",
       "      <td>GWh</td>\n",
       "      <td>1699.905715</td>\n",
       "      <td>12.974649</td>\n",
       "      <td>585.351579</td>\n",
       "      <td>24.875014</td>\n",
       "      <td>149.308626</td>\n",
       "      <td>4.452960</td>\n",
       "      <td>2476.868544</td>\n",
       "      <td>...</td>\n",
       "      <td>24632.142290</td>\n",
       "      <td>17041.229660</td>\n",
       "      <td>41673.371950</td>\n",
       "      <td>1963.840547</td>\n",
       "      <td>2158.321707</td>\n",
       "      <td>4122.162255</td>\n",
       "      <td>230598.21381</td>\n",
       "      <td>77196.696131</td>\n",
       "      <td>79702.709343</td>\n",
       "      <td>73698.808341</td>\n",
       "    </tr>\n",
       "    <tr>\n",
       "      <th>35</th>\n",
       "      <td>2007</td>\n",
       "      <td>South East</td>\n",
       "      <td>GWh</td>\n",
       "      <td>1891.546044</td>\n",
       "      <td>9.430082</td>\n",
       "      <td>672.547218</td>\n",
       "      <td>24.875014</td>\n",
       "      <td>142.140821</td>\n",
       "      <td>3.562368</td>\n",
       "      <td>2744.101547</td>\n",
       "      <td>...</td>\n",
       "      <td>23805.970350</td>\n",
       "      <td>16980.846700</td>\n",
       "      <td>40786.817050</td>\n",
       "      <td>1845.604151</td>\n",
       "      <td>2188.212636</td>\n",
       "      <td>4033.816789</td>\n",
       "      <td>228417.52391</td>\n",
       "      <td>75497.240895</td>\n",
       "      <td>78423.679611</td>\n",
       "      <td>74496.603398</td>\n",
       "    </tr>\n",
       "    <tr>\n",
       "      <th>49</th>\n",
       "      <td>2008</td>\n",
       "      <td>South East</td>\n",
       "      <td>GWh</td>\n",
       "      <td>966.300594</td>\n",
       "      <td>16.614074</td>\n",
       "      <td>712.510571</td>\n",
       "      <td>24.875014</td>\n",
       "      <td>144.768634</td>\n",
       "      <td>4.371370</td>\n",
       "      <td>1869.440257</td>\n",
       "      <td>...</td>\n",
       "      <td>23942.750780</td>\n",
       "      <td>16513.378850</td>\n",
       "      <td>40456.118000</td>\n",
       "      <td>1753.762461</td>\n",
       "      <td>2596.868404</td>\n",
       "      <td>4350.630866</td>\n",
       "      <td>219547.04266</td>\n",
       "      <td>69926.178475</td>\n",
       "      <td>76700.483213</td>\n",
       "      <td>72920.392604</td>\n",
       "    </tr>\n",
       "    <tr>\n",
       "      <th>63</th>\n",
       "      <td>2009</td>\n",
       "      <td>South East</td>\n",
       "      <td>GWh</td>\n",
       "      <td>938.884222</td>\n",
       "      <td>60.172451</td>\n",
       "      <td>711.704573</td>\n",
       "      <td>24.814152</td>\n",
       "      <td>160.812087</td>\n",
       "      <td>0.000000</td>\n",
       "      <td>1896.387485</td>\n",
       "      <td>...</td>\n",
       "      <td>23305.684059</td>\n",
       "      <td>16441.968859</td>\n",
       "      <td>39747.664548</td>\n",
       "      <td>2207.413902</td>\n",
       "      <td>2829.073424</td>\n",
       "      <td>5036.487327</td>\n",
       "      <td>211516.59364</td>\n",
       "      <td>67695.704775</td>\n",
       "      <td>72462.792232</td>\n",
       "      <td>71358.085004</td>\n",
       "    </tr>\n",
       "    <tr>\n",
       "      <th>77</th>\n",
       "      <td>2010</td>\n",
       "      <td>South East</td>\n",
       "      <td>GWh</td>\n",
       "      <td>1421.618486</td>\n",
       "      <td>10.976938</td>\n",
       "      <td>743.241912</td>\n",
       "      <td>25.053063</td>\n",
       "      <td>176.992507</td>\n",
       "      <td>1.204963</td>\n",
       "      <td>2379.087870</td>\n",
       "      <td>...</td>\n",
       "      <td>23458.740133</td>\n",
       "      <td>16538.229927</td>\n",
       "      <td>39996.970061</td>\n",
       "      <td>2113.347006</td>\n",
       "      <td>3647.452631</td>\n",
       "      <td>5760.799638</td>\n",
       "      <td>214804.44591</td>\n",
       "      <td>70837.578013</td>\n",
       "      <td>73763.522427</td>\n",
       "      <td>70203.345472</td>\n",
       "    </tr>\n",
       "    <tr>\n",
       "      <th>91</th>\n",
       "      <td>2011</td>\n",
       "      <td>South East</td>\n",
       "      <td>GWh</td>\n",
       "      <td>1197.532811</td>\n",
       "      <td>18.766601</td>\n",
       "      <td>734.403938</td>\n",
       "      <td>20.375603</td>\n",
       "      <td>172.534147</td>\n",
       "      <td>1.284318</td>\n",
       "      <td>2144.897418</td>\n",
       "      <td>...</td>\n",
       "      <td>22660.023995</td>\n",
       "      <td>16361.085664</td>\n",
       "      <td>39021.099659</td>\n",
       "      <td>2071.673124</td>\n",
       "      <td>3168.811487</td>\n",
       "      <td>5240.484610</td>\n",
       "      <td>205693.12597</td>\n",
       "      <td>66538.983323</td>\n",
       "      <td>69362.509103</td>\n",
       "      <td>69791.643539</td>\n",
       "    </tr>\n",
       "    <tr>\n",
       "      <th>105</th>\n",
       "      <td>2012</td>\n",
       "      <td>South East</td>\n",
       "      <td>GWh</td>\n",
       "      <td>1111.515279</td>\n",
       "      <td>14.107875</td>\n",
       "      <td>701.333708</td>\n",
       "      <td>21.367658</td>\n",
       "      <td>159.622223</td>\n",
       "      <td>1.279513</td>\n",
       "      <td>2009.226255</td>\n",
       "      <td>...</td>\n",
       "      <td>22699.933984</td>\n",
       "      <td>16288.665683</td>\n",
       "      <td>38988.599667</td>\n",
       "      <td>1984.853342</td>\n",
       "      <td>4029.963823</td>\n",
       "      <td>6014.817165</td>\n",
       "      <td>203566.39626</td>\n",
       "      <td>64485.858901</td>\n",
       "      <td>70217.766095</td>\n",
       "      <td>68862.781266</td>\n",
       "    </tr>\n",
       "    <tr>\n",
       "      <th>119</th>\n",
       "      <td>2013</td>\n",
       "      <td>South East</td>\n",
       "      <td>GWh</td>\n",
       "      <td>1402.654948</td>\n",
       "      <td>15.466485</td>\n",
       "      <td>670.371836</td>\n",
       "      <td>18.184394</td>\n",
       "      <td>178.849458</td>\n",
       "      <td>0.000000</td>\n",
       "      <td>2285.527120</td>\n",
       "      <td>...</td>\n",
       "      <td>22744.223972</td>\n",
       "      <td>16058.235745</td>\n",
       "      <td>38802.459717</td>\n",
       "      <td>1505.930479</td>\n",
       "      <td>4744.271042</td>\n",
       "      <td>6250.201522</td>\n",
       "      <td>201743.68784</td>\n",
       "      <td>63624.795452</td>\n",
       "      <td>69970.288210</td>\n",
       "      <td>68148.604166</td>\n",
       "    </tr>\n",
       "    <tr>\n",
       "      <th>133</th>\n",
       "      <td>2014</td>\n",
       "      <td>South East</td>\n",
       "      <td>GWh</td>\n",
       "      <td>1343.106569</td>\n",
       "      <td>14.675024</td>\n",
       "      <td>573.079416</td>\n",
       "      <td>17.242679</td>\n",
       "      <td>177.857467</td>\n",
       "      <td>0.000000</td>\n",
       "      <td>2125.961155</td>\n",
       "      <td>...</td>\n",
       "      <td>22778.570000</td>\n",
       "      <td>16164.800000</td>\n",
       "      <td>38943.360000</td>\n",
       "      <td>1278.586558</td>\n",
       "      <td>4506.501370</td>\n",
       "      <td>5785.087928</td>\n",
       "      <td>202231.71190</td>\n",
       "      <td>63997.387150</td>\n",
       "      <td>69101.538009</td>\n",
       "      <td>69132.796742</td>\n",
       "    </tr>\n",
       "    <tr>\n",
       "      <th>147</th>\n",
       "      <td>2015</td>\n",
       "      <td>South East</td>\n",
       "      <td>GWh</td>\n",
       "      <td>1096.768683</td>\n",
       "      <td>14.376074</td>\n",
       "      <td>576.894030</td>\n",
       "      <td>17.242679</td>\n",
       "      <td>23.957261</td>\n",
       "      <td>0.000000</td>\n",
       "      <td>1729.238727</td>\n",
       "      <td>...</td>\n",
       "      <td>22413.486930</td>\n",
       "      <td>16070.934070</td>\n",
       "      <td>38484.420990</td>\n",
       "      <td>758.695455</td>\n",
       "      <td>5090.966340</td>\n",
       "      <td>5849.661795</td>\n",
       "      <td>202249.73785</td>\n",
       "      <td>62432.187896</td>\n",
       "      <td>69501.593282</td>\n",
       "      <td>70315.956678</td>\n",
       "    </tr>\n",
       "    <tr>\n",
       "      <th>161</th>\n",
       "      <td>2016</td>\n",
       "      <td>South East</td>\n",
       "      <td>GWh</td>\n",
       "      <td>1046.275832</td>\n",
       "      <td>13.490509</td>\n",
       "      <td>574.205129</td>\n",
       "      <td>19.895398</td>\n",
       "      <td>24.353096</td>\n",
       "      <td>0.000000</td>\n",
       "      <td>1678.219965</td>\n",
       "      <td>...</td>\n",
       "      <td>21603.249610</td>\n",
       "      <td>15880.747160</td>\n",
       "      <td>37483.996770</td>\n",
       "      <td>791.326608</td>\n",
       "      <td>5470.592399</td>\n",
       "      <td>6261.919007</td>\n",
       "      <td>201384.14152</td>\n",
       "      <td>60874.555872</td>\n",
       "      <td>69628.254849</td>\n",
       "      <td>70881.330796</td>\n",
       "    </tr>\n",
       "    <tr>\n",
       "      <th>175</th>\n",
       "      <td>2017</td>\n",
       "      <td>South East</td>\n",
       "      <td>GWh</td>\n",
       "      <td>846.203398</td>\n",
       "      <td>13.441524</td>\n",
       "      <td>559.240634</td>\n",
       "      <td>19.825955</td>\n",
       "      <td>30.669698</td>\n",
       "      <td>0.000000</td>\n",
       "      <td>1469.381208</td>\n",
       "      <td>...</td>\n",
       "      <td>21976.827810</td>\n",
       "      <td>15741.582980</td>\n",
       "      <td>37718.410790</td>\n",
       "      <td>732.056355</td>\n",
       "      <td>5437.872914</td>\n",
       "      <td>6169.929269</td>\n",
       "      <td>197708.45060</td>\n",
       "      <td>56870.878455</td>\n",
       "      <td>70512.739837</td>\n",
       "      <td>70324.832304</td>\n",
       "    </tr>\n",
       "    <tr>\n",
       "      <th>189</th>\n",
       "      <td>2018</td>\n",
       "      <td>South East</td>\n",
       "      <td>GWh</td>\n",
       "      <td>661.939654</td>\n",
       "      <td>13.441524</td>\n",
       "      <td>541.026875</td>\n",
       "      <td>19.825955</td>\n",
       "      <td>33.221829</td>\n",
       "      <td>0.000000</td>\n",
       "      <td>1269.455837</td>\n",
       "      <td>...</td>\n",
       "      <td>22034.242660</td>\n",
       "      <td>15432.016080</td>\n",
       "      <td>37466.258730</td>\n",
       "      <td>464.734730</td>\n",
       "      <td>5941.620817</td>\n",
       "      <td>6406.355547</td>\n",
       "      <td>201530.00245</td>\n",
       "      <td>61508.023202</td>\n",
       "      <td>70974.253870</td>\n",
       "      <td>69047.725397</td>\n",
       "    </tr>\n",
       "  </tbody>\n",
       "</table>\n",
       "<p>14 rows × 34 columns</p>\n",
       "</div>"
      ],
      "text/plain": [
       "     Year        Name Unit  Coal_Industrial  Coal_Commercial  Coal_Domestic  \\\n",
       "7    2005  South East  GWh      1402.048896         9.315935     647.322660   \n",
       "21   2006  South East  GWh      1699.905715        12.974649     585.351579   \n",
       "35   2007  South East  GWh      1891.546044         9.430082     672.547218   \n",
       "49   2008  South East  GWh       966.300594        16.614074     712.510571   \n",
       "63   2009  South East  GWh       938.884222        60.172451     711.704573   \n",
       "77   2010  South East  GWh      1421.618486        10.976938     743.241912   \n",
       "91   2011  South East  GWh      1197.532811        18.766601     734.403938   \n",
       "105  2012  South East  GWh      1111.515279        14.107875     701.333708   \n",
       "119  2013  South East  GWh      1402.654948        15.466485     670.371836   \n",
       "133  2014  South East  GWh      1343.106569        14.675024     573.079416   \n",
       "147  2015  South East  GWh      1096.768683        14.376074     576.894030   \n",
       "161  2016  South East  GWh      1046.275832        13.490509     574.205129   \n",
       "175  2017  South East  GWh       846.203398        13.441524     559.240634   \n",
       "189  2018  South East  GWh       661.939654        13.441524     541.026875   \n",
       "\n",
       "     Coal_Rail  Coal_Public  Coal_Agriculture   Coal_Total  ...  \\\n",
       "7     5.292556   160.350304          8.181764  2232.512114  ...   \n",
       "21   24.875014   149.308626          4.452960  2476.868544  ...   \n",
       "35   24.875014   142.140821          3.562368  2744.101547  ...   \n",
       "49   24.875014   144.768634          4.371370  1869.440257  ...   \n",
       "63   24.814152   160.812087          0.000000  1896.387485  ...   \n",
       "77   25.053063   176.992507          1.204963  2379.087870  ...   \n",
       "91   20.375603   172.534147          1.284318  2144.897418  ...   \n",
       "105  21.367658   159.622223          1.279513  2009.226255  ...   \n",
       "119  18.184394   178.849458          0.000000  2285.527120  ...   \n",
       "133  17.242679   177.857467          0.000000  2125.961155  ...   \n",
       "147  17.242679    23.957261          0.000000  1729.238727  ...   \n",
       "161  19.895398    24.353096          0.000000  1678.219965  ...   \n",
       "175  19.825955    30.669698          0.000000  1469.381208  ...   \n",
       "189  19.825955    33.221829          0.000000  1269.455837  ...   \n",
       "\n",
       "     Electricity_Commercial  Electricity_Domestic  Electricity_Total  \\\n",
       "7              24399.902820          17357.705220       41757.608040   \n",
       "21             24632.142290          17041.229660       41673.371950   \n",
       "35             23805.970350          16980.846700       40786.817050   \n",
       "49             23942.750780          16513.378850       40456.118000   \n",
       "63             23305.684059          16441.968859       39747.664548   \n",
       "77             23458.740133          16538.229927       39996.970061   \n",
       "91             22660.023995          16361.085664       39021.099659   \n",
       "105            22699.933984          16288.665683       38988.599667   \n",
       "119            22744.223972          16058.235745       38802.459717   \n",
       "133            22778.570000          16164.800000       38943.360000   \n",
       "147            22413.486930          16070.934070       38484.420990   \n",
       "161            21603.249610          15880.747160       37483.996770   \n",
       "175            21976.827810          15741.582980       37718.410790   \n",
       "189            22034.242660          15432.016080       37466.258730   \n",
       "\n",
       "     Bioenergy_Commercial  Bioenergy_Domestic  Bioenergy_Total  \\\n",
       "7             2146.356814         2066.449000      4212.805814   \n",
       "21            1963.840547         2158.321707      4122.162255   \n",
       "35            1845.604151         2188.212636      4033.816789   \n",
       "49            1753.762461         2596.868404      4350.630866   \n",
       "63            2207.413902         2829.073424      5036.487327   \n",
       "77            2113.347006         3647.452631      5760.799638   \n",
       "91            2071.673124         3168.811487      5240.484610   \n",
       "105           1984.853342         4029.963823      6014.817165   \n",
       "119           1505.930479         4744.271042      6250.201522   \n",
       "133           1278.586558         4506.501370      5785.087928   \n",
       "147            758.695455         5090.966340      5849.661795   \n",
       "161            791.326608         5470.592399      6261.919007   \n",
       "175            732.056355         5437.872914      6169.929269   \n",
       "189            464.734730         5941.620817      6406.355547   \n",
       "\n",
       "     All_Fuels_Total  Sector_Industrial  Sector_Domestic  Sector_Transport  \n",
       "7       239390.34272       85740.602487     81053.819193      72595.921037  \n",
       "21      230598.21381       77196.696131     79702.709343      73698.808341  \n",
       "35      228417.52391       75497.240895     78423.679611      74496.603398  \n",
       "49      219547.04266       69926.178475     76700.483213      72920.392604  \n",
       "63      211516.59364       67695.704775     72462.792232      71358.085004  \n",
       "77      214804.44591       70837.578013     73763.522427      70203.345472  \n",
       "91      205693.12597       66538.983323     69362.509103      69791.643539  \n",
       "105     203566.39626       64485.858901     70217.766095      68862.781266  \n",
       "119     201743.68784       63624.795452     69970.288210      68148.604166  \n",
       "133     202231.71190       63997.387150     69101.538009      69132.796742  \n",
       "147     202249.73785       62432.187896     69501.593282      70315.956678  \n",
       "161     201384.14152       60874.555872     69628.254849      70881.330796  \n",
       "175     197708.45060       56870.878455     70512.739837      70324.832304  \n",
       "189     201530.00245       61508.023202     70974.253870      69047.725397  \n",
       "\n",
       "[14 rows x 34 columns]"
      ]
     },
     "execution_count": 5,
     "metadata": {},
     "output_type": "execute_result"
    }
   ],
   "source": [
    "fig = px.line(test, x=\"Year\", y=\"GWh\", color=\"Energy type\")\n",
    "fig.show()\n",
    "region_df"
   ]
  },
  {
   "cell_type": "code",
   "execution_count": null,
   "id": "digital-teaching",
   "metadata": {},
   "outputs": [],
   "source": []
  }
 ],
 "metadata": {
  "kernelspec": {
   "display_name": "Python 3",
   "language": "python",
   "name": "python3"
  },
  "language_info": {
   "codemirror_mode": {
    "name": "ipython",
    "version": 3
   },
   "file_extension": ".py",
   "mimetype": "text/x-python",
   "name": "python",
   "nbconvert_exporter": "python",
   "pygments_lexer": "ipython3",
   "version": "3.8.5"
  }
 },
 "nbformat": 4,
 "nbformat_minor": 5
}
